{
    "cells": [
        {
            "cell_type": "code",
            "execution_count": 4,
            "metadata": {},
            "outputs": [
                {
                    "data": {
                        "text/html": "<div>\n<style scoped>\n    .dataframe tbody tr th:only-of-type {\n        vertical-align: middle;\n    }\n\n    .dataframe tbody tr th {\n        vertical-align: top;\n    }\n\n    .dataframe thead th {\n        text-align: right;\n    }\n</style>\n<table border=\"1\" class=\"dataframe\">\n  <thead>\n    <tr style=\"text-align: right;\">\n      <th></th>\n      <th>Description;committed;cost</th>\n    </tr>\n  </thead>\n  <tbody>\n    <tr>\n      <th>0</th>\n      <td>pish pardakht;MAPNA;9000000000</td>\n    </tr>\n    <tr>\n      <th>1</th>\n      <td>peymankar mech01;MAPNA;2000000000</td>\n    </tr>\n    <tr>\n      <th>2</th>\n      <td>peymankar mech02;MAPNA;800000000</td>\n    </tr>\n    <tr>\n      <th>3</th>\n      <td>peymankar mech03;MAPNA;1000000000</td>\n    </tr>\n    <tr>\n      <th>4</th>\n      <td>peymankar elec01;MAPNA;150000000</td>\n    </tr>\n  </tbody>\n</table>\n</div>",
                        "text/plain": "          Description;committed;cost\n0     pish pardakht;MAPNA;9000000000\n1  peymankar mech01;MAPNA;2000000000\n2   peymankar mech02;MAPNA;800000000\n3  peymankar mech03;MAPNA;1000000000\n4   peymankar elec01;MAPNA;150000000"
                    },
                    "execution_count": 4,
                    "metadata": {},
                    "output_type": "execute_result"
                }
            ],
            "source": "# The code was removed by Watson Studio for sharing."
        },
        {
            "cell_type": "markdown",
            "metadata": {},
            "source": "| date |\n|------|\n|5-April|"
        },
        {
            "cell_type": "code",
            "execution_count": null,
            "metadata": {},
            "outputs": [],
            "source": ""
        }
    ],
    "metadata": {
        "kernelspec": {
            "display_name": "Python 3.10",
            "language": "python",
            "name": "python3"
        },
        "language_info": {
            "codemirror_mode": {
                "name": "ipython",
                "version": 3
            },
            "file_extension": ".py",
            "mimetype": "text/x-python",
            "name": "python",
            "nbconvert_exporter": "python",
            "pygments_lexer": "ipython3",
            "version": "3.10.9"
        }
    },
    "nbformat": 4,
    "nbformat_minor": 1
}