{
 "cells": [
  {
   "cell_type": "markdown",
   "id": "def8bbd1-a914-455b-b163-ea864c692a24",
   "metadata": {},
   "source": [
    "# Data Science Tools And Ecosystem"
   ]
  },
  {
   "cell_type": "markdown",
   "id": "6a5d6e6c-5741-42cb-886e-f041e6a65bab",
   "metadata": {},
   "source": [
    "## In this notebook,Data Science Tools and Ecosystem are summarized"
   ]
  },
  {
   "cell_type": "markdown",
   "id": "72d3e265-8d96-43c1-a6de-9e139ca0b53d",
   "metadata": {},
   "source": [
    "### List popular languages for Data Science\n",
    "* R\n",
    "* SQL\n",
    "* Java\n",
    "* Julia\n",
    "* Scala\n",
    "* JavaScript\n",
    "* Swift"
   ]
  },
  {
   "cell_type": "markdown",
   "id": "ac1664ea-faec-46bf-8fe9-803ae5b62cdc",
   "metadata": {
    "tags": []
   },
   "source": [
    "### Some of the popular languages that Data Scientist use are:"
   ]
  },
  {
   "cell_type": "markdown",
   "id": "7f3c9884-e701-489c-a942-f139abfade4f",
   "metadata": {},
   "source": [
    "##### 1- Paython\n",
    "##### 2- SQL\n",
    "##### 3- R"
   ]
  },
  {
   "cell_type": "markdown",
   "id": "7f181fd8-e936-4702-bec8-6b946bdfac96",
   "metadata": {},
   "source": [
    "### Some of the popular libraries that Data Scientist use are:"
   ]
  },
  {
   "cell_type": "markdown",
   "id": "93c86a2e-e87a-4f48-aaab-6fbe6f09122f",
   "metadata": {},
   "source": [
    "##### 1- TensorFlow\n",
    "##### 2- NumPy\n",
    "##### 3- SciPy\n",
    "##### 4- Pandas\n",
    "##### 5- Matplotlib\n",
    "##### 6- Keras\n",
    "##### 7- SciKit-Learn\n",
    "##### 8- PyTorch"
   ]
  },
  {
   "cell_type": "markdown",
   "id": "bf8436ae-a384-4ea1-9b4f-2229cdcd38aa",
   "metadata": {},
   "source": [
    "# Data Science Tools\n",
    "| Data Science Tools |\n",
    "| ------------------ |\n",
    "| RStudio            |\n",
    "| Apache Spark       |\n",
    "| TensorFlow         |"
   ]
  },
  {
   "cell_type": "markdown",
   "id": "011642eb-9c36-42c3-a15b-6172ace3536e",
   "metadata": {},
   "source": [
    "### Below are a few examples of evaluating arithmetic expressions in Python"
   ]
  },
  {
   "cell_type": "code",
   "execution_count": 5,
   "id": "46469e60-5876-4372-99bf-45012821a560",
   "metadata": {},
   "outputs": [
    {
     "data": {
      "text/plain": [
       "17"
      ]
     },
     "execution_count": 5,
     "metadata": {},
     "output_type": "execute_result"
    }
   ],
   "source": [
    "# This a simple arithmetic expression to mutiply then add integers\n",
    "(3*4)+5"
   ]
  },
  {
   "cell_type": "code",
   "execution_count": 7,
   "id": "b0781658-96ad-47aa-bbb2-43b64146470d",
   "metadata": {},
   "outputs": [
    {
     "data": {
      "text/plain": [
       "3.3333333333333335"
      ]
     },
     "execution_count": 7,
     "metadata": {},
     "output_type": "execute_result"
    }
   ],
   "source": [
    "# This will convert 200 minutes to hours by diving by 60\n",
    "(200/60)"
   ]
  },
  {
   "cell_type": "markdown",
   "id": "1104e8d9-931e-454f-b691-f37b292506ce",
   "metadata": {},
   "source": [
    "## Author\n",
    "### Iman Hemyari\n",
    "## Date Of Create\n",
    "| Date (YYYY-MM-DD) |\n",
    "| ----------------- |\n",
    "| 2023-04-02        |"
   ]
  },
  {
   "cell_type": "code",
   "execution_count": null,
   "id": "ba11ef3b-3891-4341-ad6d-eff208891281",
   "metadata": {},
   "outputs": [],
   "source": []
  }
 ],
 "metadata": {
  "kernelspec": {
   "display_name": "Python 3 (ipykernel)",
   "language": "python",
   "name": "python3"
  },
  "language_info": {
   "codemirror_mode": {
    "name": "ipython",
    "version": 3
   },
   "file_extension": ".py",
   "mimetype": "text/x-python",
   "name": "python",
   "nbconvert_exporter": "python",
   "pygments_lexer": "ipython3",
   "version": "3.10.9"
  }
 },
 "nbformat": 4,
 "nbformat_minor": 5
}
